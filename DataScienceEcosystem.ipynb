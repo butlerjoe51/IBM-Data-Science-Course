{
 "cells": [
  {
   "cell_type": "markdown",
   "id": "c89f816c",
   "metadata": {},
   "source": [
    "# Data Science Ecosystem"
   ]
  },
  {
   "cell_type": "markdown",
   "id": "766d037e",
   "metadata": {},
   "source": [
    "In this notebook, notebooks regarding the Data Science ecosystem and Data Science tools are summarized."
   ]
  },
  {
   "cell_type": "markdown",
   "id": "c15e608e",
   "metadata": {},
   "source": [
    "Some of the most popular Data Science languages used today are:\n",
    "1. Python\n",
    "2. R\n",
    "3. Julia"
   ]
  },
  {
   "cell_type": "markdown",
   "id": "d8f7e1d7",
   "metadata": {},
   "source": [
    "Three of the most commonly used Data Science libraries are:\n",
    "1. Pandas\n",
    "2. Matplotlib\n",
    "3. SciPy"
   ]
  },
  {
   "cell_type": "markdown",
   "id": "63449211",
   "metadata": {},
   "source": [
    "Three of the most well known open-source Data Science tools are:\n",
    "\n",
    "|Tools|\n",
    "|:---:|\n",
    "|Jupyter Notebook|\n",
    "|Hadoop|\n",
    "|Weka|"
   ]
  },
  {
   "cell_type": "markdown",
   "id": "29eded24",
   "metadata": {},
   "source": [
    "### Below are some ways you can compute arithmetic expressions on Python:"
   ]
  },
  {
   "cell_type": "code",
   "execution_count": 1,
   "id": "580a76ea",
   "metadata": {},
   "outputs": [
    {
     "data": {
      "text/plain": [
       "17"
      ]
     },
     "execution_count": 1,
     "metadata": {},
     "output_type": "execute_result"
    }
   ],
   "source": [
    "(3*4)+5"
   ]
  },
  {
   "cell_type": "code",
   "execution_count": 2,
   "id": "3537de0e",
   "metadata": {},
   "outputs": [
    {
     "data": {
      "text/plain": [
       "3.3333333333333335"
      ]
     },
     "execution_count": 2,
     "metadata": {},
     "output_type": "execute_result"
    }
   ],
   "source": [
    "#Converting 200 Minutes to Hours by dividing by 60\n",
    "200/60"
   ]
  },
  {
   "cell_type": "markdown",
   "id": "b55c607c",
   "metadata": {},
   "source": [
    "**Objectives Covered by this Notebook**\n",
    "- Listed popular Data Science Languages\n",
    "- Listed commonly used Data Science Libraries\n",
    "- Listed well known open-source Data Science Tools\n",
    "- Computed Arithmetric Expressions on Python"
   ]
  },
  {
   "cell_type": "markdown",
   "id": "2782f1bd",
   "metadata": {},
   "source": [
    "## Joseph Butler"
   ]
  },
  {
   "cell_type": "code",
   "execution_count": null,
   "id": "969bfab5",
   "metadata": {},
   "outputs": [],
   "source": []
  }
 ],
 "metadata": {
  "kernelspec": {
   "display_name": "Python 3 (ipykernel)",
   "language": "python",
   "name": "python3"
  },
  "language_info": {
   "codemirror_mode": {
    "name": "ipython",
    "version": 3
   },
   "file_extension": ".py",
   "mimetype": "text/x-python",
   "name": "python",
   "nbconvert_exporter": "python",
   "pygments_lexer": "ipython3",
   "version": "3.11.4"
  }
 },
 "nbformat": 4,
 "nbformat_minor": 5
}
